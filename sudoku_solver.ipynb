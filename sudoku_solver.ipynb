{
 "cells": [
  {
   "cell_type": "code",
   "execution_count": 1,
   "metadata": {},
   "outputs": [
    {
     "name": "stdout",
     "output_type": "stream",
     "text": [
      "Requirement already satisfied: cvxpy in /Users/suijunyu/opt/anaconda3/lib/python3.8/site-packages (1.1.15)\n",
      "Requirement already satisfied: osqp>=0.4.1 in /Users/suijunyu/opt/anaconda3/lib/python3.8/site-packages (from cvxpy) (0.6.2.post0)\n",
      "Requirement already satisfied: scipy>=1.1.0 in /Users/suijunyu/opt/anaconda3/lib/python3.8/site-packages (from cvxpy) (1.5.0)\n",
      "Requirement already satisfied: numpy>=1.15 in /Users/suijunyu/opt/anaconda3/lib/python3.8/site-packages (from cvxpy) (1.18.5)\n",
      "Requirement already satisfied: ecos>=2 in /Users/suijunyu/opt/anaconda3/lib/python3.8/site-packages (from cvxpy) (2.0.7.post1)\n",
      "Requirement already satisfied: scs>=1.1.6 in /Users/suijunyu/opt/anaconda3/lib/python3.8/site-packages (from cvxpy) (2.1.4)\n",
      "Requirement already satisfied: qdldl in /Users/suijunyu/opt/anaconda3/lib/python3.8/site-packages (from osqp>=0.4.1->cvxpy) (0.1.5.post0)\n",
      "Note: you may need to restart the kernel to use updated packages.\n"
     ]
    }
   ],
   "source": [
    "pip install cvxpy"
   ]
  },
  {
   "cell_type": "code",
   "execution_count": 2,
   "metadata": {},
   "outputs": [],
   "source": [
    "import numpy as np \n",
    "import pandas as pd \n",
    "import scipy.sparse as scs \n",
    "import scipy.linalg as scl \n",
    "import scipy.optimize as sco \n"
   ]
  },
  {
   "cell_type": "code",
   "execution_count": 8,
   "metadata": {},
   "outputs": [],
   "source": [
    "data_small1 = pd.read_csv('small1.csv')\n",
    "data_small2 = pd.read_csv('small2.csv')\n",
    "data_large1 = pd.read_csv('large1.csv')\n",
    "data_large2 = pd.read_csv('large2.csv')"
   ]
  },
  {
   "cell_type": "code",
   "execution_count": 3,
   "metadata": {},
   "outputs": [],
   "source": [
    "# constraints of soduku (reference: https://www.kaggle.com/gaz3ll3/sudoku-challenge-example-1)\n",
    "def fixed_constraints(N=9):\n",
    "    rowC = np.zeros(N)\n",
    "    rowC[0] =1\n",
    "    rowR = np.zeros(N)\n",
    "    rowR[0] =1\n",
    "    row = scl.toeplitz(rowC, rowR)\n",
    "    ROW = np.kron(row, np.kron(np.ones((1,N)), np.eye(N)))\n",
    "    \n",
    "    colR = np.kron(np.ones((1,N)), rowC)\n",
    "    col  = scl.toeplitz(rowC, colR)\n",
    "    COL  = np.kron(col, np.eye(N))\n",
    "    \n",
    "    M = int(np.sqrt(N))\n",
    "    boxC = np.zeros(M)\n",
    "    boxC[0]=1\n",
    "    boxR = np.kron(np.ones((1, M)), boxC) \n",
    "    box = scl.toeplitz(boxC, boxR)\n",
    "    box = np.kron(np.eye(M), box)\n",
    "    BOX = np.kron(box, np.block([np.eye(N), np.eye(N) ,np.eye(N)]))\n",
    "    \n",
    "    cell = np.eye(N**2)\n",
    "    CELL = np.kron(cell, np.ones((1,N)))\n",
    "\n",
    "    return scs.csr_matrix(np.block([[ROW],[COL],[BOX],[CELL]]))"
   ]
  },
  {
   "cell_type": "code",
   "execution_count": 4,
   "metadata": {},
   "outputs": [
    {
     "data": {
      "text/plain": [
       "(324, 729)"
      ]
     },
     "execution_count": 4,
     "metadata": {},
     "output_type": "execute_result"
    }
   ],
   "source": [
    "fixed_constraints().toarray().shape"
   ]
  },
  {
   "cell_type": "code",
   "execution_count": 5,
   "metadata": {},
   "outputs": [],
   "source": [
    "def clue_constraint(input_quiz, N=9):\n",
    "    m = np.reshape([int(c) for c in input_quiz], (N,N))\n",
    "    r, c = np.where(m.T)\n",
    "    v = np.array([m[c[d],r[d]] for d in range(len(r))])\n",
    "    \n",
    "    table = N * c + r\n",
    "    table = np.block([[table],[v-1]])\n",
    "    \n",
    "    CLUE = scs.lil_matrix((len(table.T), N**3))\n",
    "    for i in range(len(table.T)):\n",
    "        CLUE[i,table[0,i]*N + table[1,i]] = 1\n",
    "\n",
    "    CLUE = CLUE.tocsr() \n",
    "    \n",
    "    return CLUE"
   ]
  },
  {
   "cell_type": "code",
   "execution_count": 11,
   "metadata": {},
   "outputs": [],
   "source": [
    "import cvxpy as cp\n",
    "import warnings\n",
    "warnings.filterwarnings(\"ignore\")\n",
    "# the solver function\n",
    "def solver(input):\n",
    "    A0 = fixed_constraints()\n",
    "    A1 = clue_constraint(input)\n",
    "\n",
    "    A = scs.vstack((A0,A1))\n",
    "    B = np.ones(A.toarray().shape[0])\n",
    "\n",
    "    try:\n",
    "        x = cp.Variable(A.toarray().shape[1])\n",
    "        prob = cp.Problem(cp.Minimize(cp.norm(x, 1)),\n",
    "                         [A.dot(x) == B, x>=0, x<=1])\n",
    "        prob.solve(verbose=False)\n",
    "        x = x.value\n",
    "    except:\n",
    "        x = np.zeros(A.toarray().shape[1])\n",
    "        \n",
    "    z = np.reshape(x, (81, 9))\n",
    "    z = np.reshape(np.array([np.argmax(d)+1 for d in z]), (9,9))\n",
    "    return ''.join([str(i) for i in z.flatten()])\n",
    "    return z"
   ]
  },
  {
   "cell_type": "code",
   "execution_count": 6,
   "metadata": {},
   "outputs": [],
   "source": [
    "def check(sol):\n",
    "    solution=np.reshape([int(c) for c in sol], (9,9))\n",
    "    for i in range(9):\n",
    "        if [0,1,2,3,4,5,6,7,8]!=np.where(solution==(i+1))[0].tolist():\n",
    "            return False\n",
    "        k=i%3\n",
    "        h=i//3\n",
    "        block=solution[h*3:h*3+3,k*3:k*3+3]\n",
    "        for j in range(9):\n",
    "            [a,b]=np.shape(np.where(block==(j+1)))\n",
    "            if b!=1:\n",
    "                return False\n",
    "        return True    "
   ]
  },
  {
   "cell_type": "code",
   "execution_count": 9,
   "metadata": {},
   "outputs": [
    {
     "name": "stdout",
     "output_type": "stream",
     "text": [
      "004029000000006703000000050100700036900000008380004002050000000603200000000310200 \n",
      "data type is: <class 'str'>\n"
     ]
    },
    {
     "data": {
      "text/plain": [
       "array([[0, 0, 4, 0, 2, 9, 0, 0, 0],\n",
       "       [0, 0, 0, 0, 0, 6, 7, 0, 3],\n",
       "       [0, 0, 0, 0, 0, 0, 0, 5, 0],\n",
       "       [1, 0, 0, 7, 0, 0, 0, 3, 6],\n",
       "       [9, 0, 0, 0, 0, 0, 0, 0, 8],\n",
       "       [3, 8, 0, 0, 0, 4, 0, 0, 2],\n",
       "       [0, 5, 0, 0, 0, 0, 0, 0, 0],\n",
       "       [6, 0, 3, 2, 0, 0, 0, 0, 0],\n",
       "       [0, 0, 0, 3, 1, 0, 2, 0, 0]])"
      ]
     },
     "execution_count": 9,
     "metadata": {},
     "output_type": "execute_result"
    }
   ],
   "source": [
    "# Take a close look at one string in quizzes\n",
    "\n",
    "quiz = data_small1[\"quizzes\"][9]\n",
    "print(quiz, '\\ndata type is:', type(quiz))\n",
    "\n",
    "# we can turn it into a numpy array by the following\n",
    "np.reshape([int(c) for c in quiz], (9,9))"
   ]
  },
  {
   "cell_type": "code",
   "execution_count": 12,
   "metadata": {},
   "outputs": [
    {
     "name": "stdout",
     "output_type": "stream",
     "text": [
      "080032001703080002500007030050001970600709008047200050020600009800090305300820010\n",
      "489532761713486592562917834258341976631759248947268153125673489876194325394825617\n"
     ]
    }
   ],
   "source": [
    "quiz = data_small1[\"quizzes\"][0]\n",
    "print(quiz)\n",
    "print(solver(quiz))"
   ]
  },
  {
   "cell_type": "markdown",
   "metadata": {},
   "source": [
    "# Result on Dataset A"
   ]
  },
  {
   "cell_type": "code",
   "execution_count": 13,
   "metadata": {},
   "outputs": [
    {
     "name": "stdout",
     "output_type": "stream",
     "text": [
      "success rate is 0.33719806763285026\n"
     ]
    }
   ],
   "source": [
    "\n",
    "n1 = len(data_small1['quizzes'])\n",
    "cnt = 0\n",
    "for i in range(n1):\n",
    "    s = solver(data_small1['quizzes'][i])\n",
    "    if s == data_small1['solutions'][i]:\n",
    "        cnt += 1\n",
    "\n",
    "n2 = len(data_small2['quizzes'])\n",
    "for i in range(n2):\n",
    "    s = solver(data_small2['quizzes'][i])\n",
    "    if s == data_small2['solutions'][i]:\n",
    "        cnt += 1\n",
    "print('success rate is {}'.format(cnt/(n1+n2)))"
   ]
  },
  {
   "cell_type": "code",
   "execution_count": 16,
   "metadata": {},
   "outputs": [
    {
     "name": "stdout",
     "output_type": "stream",
     "text": [
      "success rate on small1 is 100.0 % \n"
     ]
    }
   ],
   "source": [
    "data1=data_small1\n",
    "n = len(data1['quizzes'])\n",
    "k=0;\n",
    "for i in range(n):\n",
    "    s = solver(data1['quizzes'][i])\n",
    "    if check(s):\n",
    "        k+=1\n",
    "    \n",
    "print('success rate on small1 is', 100*k/n,'% ')"
   ]
  },
  {
   "cell_type": "code",
   "execution_count": 17,
   "metadata": {},
   "outputs": [
    {
     "name": "stdout",
     "output_type": "stream",
     "text": [
      "success rate on small2 is 41.839762611275965 % \n"
     ]
    }
   ],
   "source": [
    "data2=data_small2\n",
    "n = len(data2['quizzes'])\n",
    "k=0;\n",
    "for i in range(n):\n",
    "    s = solver(data2['quizzes'][i])\n",
    "    if check(s):\n",
    "        k+=1\n",
    "    \n",
    "print('success rate on small2 is', 100*k/n,'% ')"
   ]
  },
  {
   "cell_type": "markdown",
   "metadata": {},
   "source": [
    "# Result on Dataset B"
   ]
  },
  {
   "cell_type": "code",
   "execution_count": 14,
   "metadata": {
    "scrolled": true
   },
   "outputs": [
    {
     "name": "stdout",
     "output_type": "stream",
     "text": [
      "success rate is 0.909\n"
     ]
    }
   ],
   "source": [
    "random_seed = 42\n",
    "np.random.seed(random_seed)\n",
    "dataB1 = pd.read_csv('large1.csv')\n",
    "n1 = len(dataB1['quizzes'])\n",
    "cnt = 0\n",
    "sample1 = np.random.choice(n1, 1000)\n",
    "for i in sample1:\n",
    "    s = solver(dataB1['quizzes'][i])\n",
    "    if s == dataB1['solutions'][i]:\n",
    "        cnt += 1\n",
    "dataB2 = pd.read_csv('large2.csv')\n",
    "n2 = len(dataB2['quizzes'])\n",
    "sample2 = np.random.choice(n2, 1000)\n",
    "for i in sample2:\n",
    "    s = solver(dataB2['quizzes'][i])\n",
    "    if s == dataB2['solutions'][i]:\n",
    "        cnt += 1\n",
    "print('success rate is {}'.format(cnt/2000))"
   ]
  },
  {
   "cell_type": "code",
   "execution_count": 26,
   "metadata": {},
   "outputs": [
    {
     "data": {
      "text/plain": [
       "1000"
      ]
     },
     "execution_count": 26,
     "metadata": {},
     "output_type": "execute_result"
    }
   ],
   "source": [
    "sample1.shape[0]"
   ]
  },
  {
   "cell_type": "code",
   "execution_count": 29,
   "metadata": {},
   "outputs": [
    {
     "name": "stdout",
     "output_type": "stream",
     "text": [
      "success rate on small3 is 89.9 % \n"
     ]
    }
   ],
   "source": [
    "data3=data_large1\n",
    "n = sample1.shape[0]\n",
    "k=0;\n",
    "for i in sample1:\n",
    "    s = solver(data3['quizzes'][i])\n",
    "    if check(s):\n",
    "        k+=1\n",
    "    \n",
    "print('success rate on small3 is', 100*k/n,'% ')"
   ]
  },
  {
   "cell_type": "code",
   "execution_count": 28,
   "metadata": {},
   "outputs": [
    {
     "name": "stdout",
     "output_type": "stream",
     "text": [
      "success rate on small4 is 100.0 % \n"
     ]
    }
   ],
   "source": [
    "data4=data_large2\n",
    "n = sample2.shape[0]\n",
    "k=0;\n",
    "for i in sample2:\n",
    "    s = solver(data4['quizzes'][i])\n",
    "    if check(s):\n",
    "        k+=1\n",
    "    \n",
    "print('success rate on small4 is', 100*k/n,'% ')"
   ]
  },
  {
   "cell_type": "code",
   "execution_count": null,
   "metadata": {},
   "outputs": [],
   "source": []
  }
 ],
 "metadata": {
  "kernelspec": {
   "display_name": "Python 3",
   "language": "python",
   "name": "python3"
  },
  "language_info": {
   "codemirror_mode": {
    "name": "ipython",
    "version": 3
   },
   "file_extension": ".py",
   "mimetype": "text/x-python",
   "name": "python",
   "nbconvert_exporter": "python",
   "pygments_lexer": "ipython3",
   "version": "3.8.3"
  }
 },
 "nbformat": 4,
 "nbformat_minor": 4
}
